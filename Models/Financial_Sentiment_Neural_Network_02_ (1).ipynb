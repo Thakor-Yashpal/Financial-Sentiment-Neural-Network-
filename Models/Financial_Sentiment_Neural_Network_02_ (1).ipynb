{
  "nbformat": 4,
  "nbformat_minor": 0,
  "metadata": {
    "colab": {
      "provenance": [],
      "gpuType": "T4"
    },
    "kernelspec": {
      "name": "python3",
      "display_name": "Python 3"
    },
    "language_info": {
      "name": "python"
    },
    "accelerator": "GPU"
  },
  "cells": [
    {
      "cell_type": "code",
      "source": [
        "!pip install transformers datasets evaluate scikit-learn matplotlib seaborn torch -q"
      ],
      "metadata": {
        "id": "wjKHhTCgvTCA"
      },
      "execution_count": 22,
      "outputs": []
    },
    {
      "cell_type": "code",
      "execution_count": 23,
      "metadata": {
        "id": "oI0tw4-7uoPz"
      },
      "outputs": [],
      "source": [
        "import torch\n",
        "import torch.nn as nn\n",
        "from torch.utils.data import DataLoader, Dataset as TorchDataset\n",
        "from transformers import RobertaTokenizerFast, RobertaModel, get_linear_schedule_with_warmup\n",
        "from torch.optim import AdamW\n",
        "from sklearn.model_selection import train_test_split\n",
        "from sklearn.metrics import confusion_matrix, classification_report\n",
        "import matplotlib.pyplot as plt\n",
        "import seaborn as sns\n",
        "import pandas as pd\n",
        "import numpy as np\n",
        "import re\n",
        "import random\n",
        "\n",
        "# Fix random seeds for reproducibility\n",
        "torch.manual_seed(42)\n",
        "np.random.seed(42)\n",
        "random.seed(42)\n"
      ]
    },
    {
      "cell_type": "code",
      "source": [
        "class FinancialSentimentDataset(TorchDataset):\n",
        "    def __init__(self, texts, labels, tokenizer, max_length=128, augment=False):\n",
        "        self.texts = texts\n",
        "        self.labels = labels\n",
        "        self.tokenizer = tokenizer\n",
        "        self.max_length = max_length\n",
        "        self.augment = augment\n",
        "\n",
        "    def __len__(self):\n",
        "        return len(self.texts)\n",
        "\n",
        "    def preprocess_text(self, text):\n",
        "        text = re.sub(r'\\s+', ' ', text)\n",
        "        text = re.sub(r'\\$[\\d,]+\\.?\\d*', '[MONEY]', text)\n",
        "        text = re.sub(r'\\d+\\.?\\d*%', '[PERCENT]', text)\n",
        "        text = re.sub(r'EUR?\\d+', '[CURRENCY]', text)\n",
        "        return text.strip()\n",
        "\n",
        "    def augment_text(self, text, ratio=0.05):\n",
        "        if not self.augment or random.random() > 0.3:\n",
        "            return text\n",
        "        words = text.split()\n",
        "        n_augmented = max(1, int(len(words)*ratio))\n",
        "        for _ in range(n_augmented):\n",
        "            if len(words) > 3:\n",
        "                idx = random.randint(0, len(words)-1)\n",
        "                if random.random() > 0.5:\n",
        "                    words.pop(idx)\n",
        "        return ' '.join(words)\n",
        "\n",
        "    def __getitem__(self, idx):\n",
        "        text = str(self.texts[idx])\n",
        "        label = self.labels[idx]\n",
        "        text = self.preprocess_text(text)\n",
        "        if self.augment:\n",
        "            text = self.augment_text(text)\n",
        "        encoding = self.tokenizer(text, truncation=True, padding='max_length', max_length=self.max_length, return_tensors='pt')\n",
        "        return {'input_ids': encoding['input_ids'].flatten(), 'attention_mask': encoding['attention_mask'].flatten(), 'label': torch.tensor(label, dtype=torch.long)}\n",
        "\n",
        "print(\"Dataset class defined.\")\n"
      ],
      "metadata": {
        "colab": {
          "base_uri": "https://localhost:8080/"
        },
        "id": "WE5bqH0b4kDM",
        "outputId": "99bb6d7f-4d3c-415b-80d2-911eee5636f9"
      },
      "execution_count": 24,
      "outputs": [
        {
          "output_type": "stream",
          "name": "stdout",
          "text": [
            "Dataset class defined.\n"
          ]
        }
      ]
    },
    {
      "cell_type": "code",
      "source": [
        "class FinancialSentimentClassifier(nn.Module):\n",
        "    def __init__(self, num_labels=3, dropout=0.2):\n",
        "        super().__init__()\n",
        "        self.bert = RobertaModel.from_pretrained(\"roberta-base\")\n",
        "        hidden_size = self.bert.config.hidden_size\n",
        "        self.classifier = nn.Sequential(\n",
        "            nn.Linear(hidden_size, 1024),\n",
        "            nn.ReLU(),\n",
        "            nn.Dropout(dropout),\n",
        "            nn.Linear(1024, 512),\n",
        "            nn.ReLU(),\n",
        "            nn.Dropout(dropout),\n",
        "            nn.Linear(512, 256),\n",
        "            nn.ReLU(),\n",
        "            nn.Dropout(dropout),\n",
        "            nn.Linear(256, num_labels)\n",
        "        )\n",
        "\n",
        "    def forward(self, input_ids, attention_mask):\n",
        "        outputs = self.bert(input_ids=input_ids, attention_mask=attention_mask)\n",
        "        token_embeddings = outputs.last_hidden_state\n",
        "        attention_mask_expanded = attention_mask.unsqueeze(-1).expand(token_embeddings.size()).float()\n",
        "        sum_embeddings = torch.sum(token_embeddings * attention_mask_expanded, 1)\n",
        "        sum_mask = torch.clamp(attention_mask_expanded.sum(1), min=1e-9)\n",
        "        pooled_output = sum_embeddings / sum_mask\n",
        "        return self.classifier(pooled_output)\n",
        "\n",
        "print(\"Model class defined.\")\n"
      ],
      "metadata": {
        "colab": {
          "base_uri": "https://localhost:8080/"
        },
        "id": "PLi3sRI64lSh",
        "outputId": "bb475437-294e-4391-9486-0fd8c2b4840f"
      },
      "execution_count": 25,
      "outputs": [
        {
          "output_type": "stream",
          "name": "stdout",
          "text": [
            "Model class defined.\n"
          ]
        }
      ]
    },
    {
      "cell_type": "code",
      "source": [
        "import torch.nn.functional as F\n",
        "\n",
        "class LabelSmoothingCrossEntropy(nn.Module):\n",
        "    def __init__(self, smoothing=0.1):\n",
        "        super().__init__()\n",
        "        self.smoothing=smoothing\n",
        "\n",
        "    def forward(self, pred, target):\n",
        "        n_class = pred.size(1)\n",
        "        one_hot = torch.zeros_like(pred).scatter(1, target.unsqueeze(1), 1)\n",
        "        one_hot = one_hot * (1 - self.smoothing) + (1 - one_hot) * self.smoothing / (n_class - 1)\n",
        "        log_prob = F.log_softmax(pred, dim=1)\n",
        "        return -(one_hot * log_prob).sum(dim=1).mean()\n",
        "\n",
        "class EarlyStopping:\n",
        "    def __init__(self, patience=3, min_delta=0.001):\n",
        "        self.patience = patience\n",
        "        self.min_delta = min_delta\n",
        "        self.counter = 0\n",
        "        self.best_loss = float('inf')\n",
        "        self.should_stop = False\n",
        "\n",
        "    def __call__(self, val_loss):\n",
        "        if val_loss < self.best_loss - self.min_delta:\n",
        "            self.best_loss = val_loss\n",
        "            self.counter = 0\n",
        "        else:\n",
        "            self.counter += 1\n",
        "        if self.counter >= self.patience:\n",
        "            self.should_stop = True\n",
        "        return self.should_stop\n",
        "print(\"Label smoothing loss and early stopping defined.\")\n"
      ],
      "metadata": {
        "colab": {
          "base_uri": "https://localhost:8080/"
        },
        "id": "3PMRwgWc4mVU",
        "outputId": "dd9e852f-6d39-4227-c32f-46481cd0c720"
      },
      "execution_count": 26,
      "outputs": [
        {
          "output_type": "stream",
          "name": "stdout",
          "text": [
            "Label smoothing loss and early stopping defined.\n"
          ]
        }
      ]
    },
    {
      "cell_type": "code",
      "source": [
        "device = torch.device(\"cuda\" if torch.cuda.is_available() else \"cpu\")\n",
        "print(f\"Using device: {device}\")\n",
        "\n",
        "data_df = pd.read_csv(\"data.csv\")\n",
        "sentiment_map = {'negative':0, 'neutral':1, 'positive':2}\n",
        "data_df['label'] = data_df['Sentiment'].map(sentiment_map)\n",
        "data_df = data_df.dropna(subset=['label'])\n",
        "\n",
        "train_texts, temp_texts, train_labels, temp_labels = train_test_split(\n",
        "    data_df['Sentence'].values, data_df['label'].values, test_size=0.3, random_state=42, stratify=data_df['label'])\n",
        "val_texts, test_texts, val_labels, test_labels = train_test_split(\n",
        "    temp_texts, temp_labels, test_size=0.5, random_state=42, stratify=temp_labels)\n",
        "\n",
        "tokenizer = RobertaTokenizerFast.from_pretrained(\"roberta-base\")\n",
        "train_dataset = FinancialSentimentDataset(train_texts, train_labels, tokenizer, augment=True)\n",
        "val_dataset = FinancialSentimentDataset(val_texts, val_labels, tokenizer)\n",
        "test_dataset = FinancialSentimentDataset(test_texts, test_labels, tokenizer)\n",
        "\n",
        "train_loader = DataLoader(train_dataset, batch_size=8, shuffle=True, drop_last=True)\n",
        "val_loader = DataLoader(val_dataset, batch_size=32, shuffle=False)\n",
        "test_loader = DataLoader(test_dataset, batch_size=32, shuffle=False)\n",
        "\n",
        "print(\"Data loaded and DataLoaders created.\")\n"
      ],
      "metadata": {
        "colab": {
          "base_uri": "https://localhost:8080/"
        },
        "id": "afSsVjuk4npR",
        "outputId": "79515a2e-a4d3-49f3-ac88-913ded948700"
      },
      "execution_count": 27,
      "outputs": [
        {
          "output_type": "stream",
          "name": "stdout",
          "text": [
            "Using device: cuda\n",
            "Data loaded and DataLoaders created.\n"
          ]
        }
      ]
    },
    {
      "cell_type": "code",
      "source": [
        "model = FinancialSentimentClassifier()\n",
        "model.to(device)\n",
        "\n",
        "class_counts = np.bincount(train_labels)\n",
        "class_weights = len(train_labels) / (len(class_counts) * class_counts)\n",
        "class_weights_tensor = torch.FloatTensor(class_weights).to(device)\n",
        "\n",
        "optimizer = AdamW(model.parameters(), lr=3e-5, weight_decay=0.01)\n",
        "total_steps = len(train_loader) * 6\n",
        "scheduler = get_linear_schedule_with_warmup(optimizer, num_warmup_steps=int(0.1*total_steps), num_training_steps=total_steps)\n",
        "criterion = LabelSmoothingCrossEntropy(smoothing=0.1)\n",
        "early_stopping = EarlyStopping(patience=3)\n",
        "\n",
        "print(\"Model, optimizer, criterion, scheduler initialized.\")\n"
      ],
      "metadata": {
        "colab": {
          "base_uri": "https://localhost:8080/"
        },
        "id": "ykc9Vm5l4owM",
        "outputId": "cd03f1d6-f5fe-49b9-8051-83de3fcb1ad7"
      },
      "execution_count": 28,
      "outputs": [
        {
          "output_type": "stream",
          "name": "stderr",
          "text": [
            "Some weights of RobertaModel were not initialized from the model checkpoint at roberta-base and are newly initialized: ['pooler.dense.bias', 'pooler.dense.weight']\n",
            "You should probably TRAIN this model on a down-stream task to be able to use it for predictions and inference.\n"
          ]
        },
        {
          "output_type": "stream",
          "name": "stdout",
          "text": [
            "Model, optimizer, criterion, scheduler initialized.\n"
          ]
        }
      ]
    },
    {
      "cell_type": "code",
      "source": [
        "def train_epoch(model, dataloader, optimizer, scheduler, criterion, device):\n",
        "    model.train()\n",
        "    total_loss = 0\n",
        "    correct = 0\n",
        "    total = 0\n",
        "    for batch in dataloader:\n",
        "        optimizer.zero_grad()\n",
        "        input_ids = batch['input_ids'].to(device)\n",
        "        attention_mask = batch['attention_mask'].to(device)\n",
        "        labels = batch['label'].to(device)\n",
        "        outputs = model(input_ids, attention_mask)\n",
        "        loss = criterion(outputs, labels)\n",
        "        loss.backward()\n",
        "        torch.nn.utils.clip_grad_norm_(model.parameters(), 1.0)\n",
        "        optimizer.step()\n",
        "        scheduler.step()\n",
        "        total_loss += loss.item()\n",
        "        preds = outputs.argmax(dim=1)\n",
        "        correct += (preds == labels).sum().item()\n",
        "        total += labels.size(0)\n",
        "    return total_loss / len(dataloader), correct / total\n",
        "\n",
        "def evaluate_model(model, dataloader, criterion, device):\n",
        "    model.eval()\n",
        "    total_loss = 0\n",
        "    correct = 0\n",
        "    total = 0\n",
        "    all_preds, all_labels = [], []\n",
        "    with torch.no_grad():\n",
        "        for batch in dataloader:\n",
        "            input_ids = batch['input_ids'].to(device)\n",
        "            attention_mask = batch['attention_mask'].to(device)\n",
        "            labels = batch['label'].to(device)\n",
        "            outputs = model(input_ids, attention_mask)\n",
        "            loss = criterion(outputs, labels)\n",
        "            total_loss += loss.item()\n",
        "            preds = outputs.argmax(dim=1)\n",
        "            correct += (preds == labels).sum().item()\n",
        "            total += labels.size(0)\n",
        "            all_preds.extend(preds.cpu().tolist())\n",
        "            all_labels.extend(labels.cpu().tolist())\n",
        "    return total_loss / len(dataloader), correct / total, all_preds, all_labels\n",
        "\n",
        "print(\"Training and evaluation functions ready.\")\n"
      ],
      "metadata": {
        "colab": {
          "base_uri": "https://localhost:8080/"
        },
        "id": "Wtljmpz64pte",
        "outputId": "488635d6-6020-4e71-fdec-9116932c4bb5"
      },
      "execution_count": 29,
      "outputs": [
        {
          "output_type": "stream",
          "name": "stdout",
          "text": [
            "Training and evaluation functions ready.\n"
          ]
        }
      ]
    },
    {
      "cell_type": "code",
      "source": [
        "epochs = 6\n",
        "best_val_acc = 0\n",
        "best_model_state = None\n",
        "train_losses, train_accs, val_losses, val_accs = [], [], [], []\n",
        "\n",
        "for epoch in range(epochs):\n",
        "    print(f\"Epoch {epoch+1}/{epochs}\")\n",
        "    train_loss, train_acc = train_epoch(model, train_loader, optimizer, scheduler, criterion, device)\n",
        "    val_loss, val_acc, val_preds, val_labels = evaluate_model(model, val_loader, criterion, device)\n",
        "    print(f\"Train loss: {train_loss:.4f}, Train acc: {train_acc:.4f}\")\n",
        "    print(f\"Val loss: {val_loss:.4f}, Val acc: {val_acc:.4f}\\n\")\n",
        "    train_losses.append(train_loss)\n",
        "    train_accs.append(train_acc)\n",
        "    val_losses.append(val_loss)\n",
        "    val_accs.append(val_acc)\n",
        "    if val_acc > best_val_acc:\n",
        "        best_val_acc = val_acc\n",
        "        best_model_state = model.state_dict()\n",
        "    if early_stopping(val_loss):\n",
        "        print(\"Early stopping triggered.\")\n",
        "        break\n",
        "\n",
        "if best_model_state is not None:\n",
        "    model.load_state_dict(best_model_state)\n",
        "\n",
        "print(\"Training completed.\")\n"
      ],
      "metadata": {
        "colab": {
          "base_uri": "https://localhost:8080/"
        },
        "id": "Pqh3Kkqg4rFY",
        "outputId": "ef6e253e-af87-4e07-9773-0b42a5803643"
      },
      "execution_count": 30,
      "outputs": [
        {
          "output_type": "stream",
          "name": "stdout",
          "text": [
            "Epoch 1/6\n",
            "Train loss: 0.9213, Train acc: 0.6211\n",
            "Val loss: 0.7425, Val acc: 0.7934\n",
            "\n",
            "Epoch 2/6\n",
            "Train loss: 0.6914, Train acc: 0.8050\n",
            "Val loss: 0.7456, Val acc: 0.7900\n",
            "\n",
            "Epoch 3/6\n",
            "Train loss: 0.6380, Train acc: 0.8337\n",
            "Val loss: 0.7176, Val acc: 0.8139\n",
            "\n",
            "Epoch 4/6\n",
            "Train loss: 0.5760, Train acc: 0.8684\n",
            "Val loss: 0.7156, Val acc: 0.8311\n",
            "\n",
            "Epoch 5/6\n",
            "Train loss: 0.5455, Train acc: 0.8875\n",
            "Val loss: 0.7190, Val acc: 0.7820\n",
            "\n",
            "Epoch 6/6\n",
            "Train loss: 0.5265, Train acc: 0.8995\n",
            "Val loss: 0.7354, Val acc: 0.7831\n",
            "\n",
            "Training completed.\n"
          ]
        }
      ]
    },
    {
      "cell_type": "code",
      "source": [
        "test_loss, test_acc, test_preds, test_labels = evaluate_model(model, test_loader, criterion, device)\n",
        "print(f\"Test loss: {test_loss:.4f}, Test accuracy: {test_acc:.4f}\")\n",
        "\n",
        "class_names = ['Negative', 'Neutral', 'Positive']\n",
        "cm = confusion_matrix(test_labels, test_preds)\n",
        "\n",
        "plt.figure(figsize=(6,5))\n",
        "sns.heatmap(cm, annot=True, fmt='d', cmap='Blues', xticklabels=class_names, yticklabels=class_names)\n",
        "plt.title('Confusion Matrix')\n",
        "plt.xlabel('Predicted')\n",
        "plt.ylabel('Actual')\n",
        "plt.show()\n",
        "\n",
        "print(\"Classification Report:\")\n",
        "print(classification_report(test_labels, test_preds, target_names=class_names))\n"
      ],
      "metadata": {
        "colab": {
          "base_uri": "https://localhost:8080/",
          "height": 695
        },
        "id": "BCSjgYpI4siu",
        "outputId": "f1bed7d8-a8d7-417a-f607-e72e88ec49db"
      },
      "execution_count": 31,
      "outputs": [
        {
          "output_type": "stream",
          "name": "stdout",
          "text": [
            "Test loss: 0.7173, Test accuracy: 0.8107\n"
          ]
        },
        {
          "output_type": "display_data",
          "data": {
            "text/plain": [
              "<Figure size 600x500 with 2 Axes>"
            ],
            "image/png": "[encoded data removed]"
          },
          "metadata": {}
        },
        {
          "output_type": "stream",
          "name": "stdout",
          "text": [
            "Classification Report:\n",
            "              precision    recall  f1-score   support\n",
            "\n",
            "    Negative       0.57      0.73      0.64       129\n",
            "     Neutral       0.89      0.79      0.84       470\n",
            "    Positive       0.83      0.89      0.86       278\n",
            "\n",
            "    accuracy                           0.81       877\n",
            "   macro avg       0.76      0.80      0.78       877\n",
            "weighted avg       0.83      0.81      0.81       877\n",
            "\n"
          ]
        }
      ]
    },
    {
      "cell_type": "code",
      "source": [
        "def predict_sentiment(text, model, tokenizer, device):\n",
        "    model.eval()\n",
        "    text = re.sub(r'\\s+', ' ', text)\n",
        "    text = re.sub(r'\\$[\\d,]+\\.?\\d*', '[MONEY]', text)\n",
        "    text = re.sub(r'\\d+\\.?\\d*%', '[PERCENT]', text)\n",
        "    text = re.sub(r'EUR?\\d+', '[CURRENCY]', text)\n",
        "    inputs = tokenizer(text, return_tensors='pt', padding=True, truncation=True, max_length=128).to(device)\n",
        "\n",
        "    with torch.no_grad():\n",
        "        outputs = model(inputs['input_ids'], inputs['attention_mask'])\n",
        "        probs = torch.softmax(outputs, dim=1)\n",
        "        pred_class = torch.argmax(probs, dim=1).item()\n",
        "        confidence = probs[0][pred_class].item()\n",
        "\n",
        "    labels_map = {0: 'Negative', 1: 'Neutral', 2: 'Positive'}\n",
        "    return labels_map[pred_class], confidence\n",
        "\n",
        "sentence = \"The company reported strong quarterly earnings and growth.\"\n",
        "label, conf = predict_sentiment(sentence, model, tokenizer, device)\n",
        "print(f\"Sentence: {sentence}\\nPredicted sentiment: {label} (Confidence: {conf:.2f})\")\n"
      ],
      "metadata": {
        "colab": {
          "base_uri": "https://localhost:8080/"
        },
        "id": "LsUg1QM94toz",
        "outputId": "8a27ca08-3018-4f5d-89a3-9aa422ae6406"
      },
      "execution_count": 32,
      "outputs": [
        {
          "output_type": "stream",
          "name": "stdout",
          "text": [
            "Sentence: The company reported strong quarterly earnings and growth.\n",
            "Predicted sentiment: Positive (Confidence: 0.91)\n"
          ]
        }
      ]
    }
  ]
}